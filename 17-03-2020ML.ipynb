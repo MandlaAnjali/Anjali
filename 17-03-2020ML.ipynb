{
 "cells": [
  {
   "cell_type": "code",
   "execution_count": null,
   "metadata": {},
   "outputs": [],
   "source": [
    "classification\n",
    "- Binary\n",
    "- Multiclass\n",
    "- Sentiment Analysis\n",
    "- Anomly detection \n",
    "Regression\n",
    "Recommender Systems\n",
    "Reinforcement Learning\n",
    "NLP\n",
    "- Q&A\n",
    "- Auto completion\n",
    "- Chatbot\n",
    "Computer Vision\n",
    "- Object detection\n",
    "- Object tracking\n",
    "- image classfication\n",
    "- image tagging\n",
    "Data\n",
    "- numerical data\n",
    "- image data\n",
    "- audio data\n",
    "- video data\n",
    "- text data\n",
    "- from documents\n",
    "- satellite imagery\n",
    "- timeseries data(Temperatue Reading, Stock prices)"
   ]
  },
  {
   "cell_type": "markdown",
   "metadata": {},
   "source": [
    "# Machine Learning:\n"
   ]
  },
  {
   "cell_type": "code",
   "execution_count": null,
   "metadata": {},
   "outputs": [],
   "source": [
    "INTRODUCTION:\n",
    "    ML is an application of (AI)Artificial Intelligence that provides sysytems the ability to automatially learn and improve\n",
    "    from experience without being explicity programmed.\n",
    "    ML focuses on the development of computer programs that can access data and user it learn for themselves."
   ]
  },
  {
   "cell_type": "markdown",
   "metadata": {},
   "source": [
    "# Real Life Examples of ML:\n"
   ]
  },
  {
   "cell_type": "code",
   "execution_count": null,
   "metadata": {},
   "outputs": [],
   "source": [
    "1.Medical diagnosis\n",
    "2.image processing\n",
    "3.prediction classification\n",
    "4.Learning association\n",
    "5.Regressions etc."
   ]
  },
  {
   "cell_type": "markdown",
   "metadata": {},
   "source": [
    "# supervised Learning and unsupervised learning"
   ]
  },
  {
   "cell_type": "code",
   "execution_count": null,
   "metadata": {},
   "outputs": [],
   "source": [
    "SL:It is the technique of accomplishing a task by providing training,input and output patterns to the systems\n",
    "USL:It is a self-learning technique in which system has to discover the features of the input population by its own and no \n",
    "    prior set of categories are used."
   ]
  },
  {
   "cell_type": "markdown",
   "metadata": {},
   "source": [
    "# Classifications:\n",
    "    "
   ]
  },
  {
   "cell_type": "code",
   "execution_count": null,
   "metadata": {},
   "outputs": [],
   "source": [
    "The mapping function predicts the class or category for a given observation.A classification problem requires that the\n",
    "example problem be classified into one or two or more classes."
   ]
  },
  {
   "cell_type": "markdown",
   "metadata": {},
   "source": [
    "## Binary classification"
   ]
  },
  {
   "cell_type": "code",
   "execution_count": null,
   "metadata": {},
   "outputs": [],
   "source": [
    "Binary classification is the task of classifying the elements of a given set into two groups on the basics of a\n",
    "classification rule.Binary classification is a supervised Learning.\n",
    "EXAMPLE:\n",
    "    1. A \"pass\" or \"fail\" test method in factories.\n",
    "    2.Medical testing \"positive\" or \"negative\".\n",
    "    3.Information retrieval,namely deciding whether a page or an article should be in the result set of a \"search\" or \"not\"\n",
    "    4.Students results \"pass\" or \"fail\"\n",
    "    5.Emails \"spam\" or \"not spam\"\n",
    "    "
   ]
  },
  {
   "cell_type": "markdown",
   "metadata": {},
   "source": [
    "# MULTI CLASSIFICATION:"
   ]
  },
  {
   "cell_type": "code",
   "execution_count": null,
   "metadata": {},
   "outputs": [],
   "source": [
    "Multiclass classification is the problem of classifying instances into one of three or more classes\n",
    "Examples:\n",
    "    1.image of fruits\n",
    "    2.imbalanced dataset"
   ]
  },
  {
   "cell_type": "markdown",
   "metadata": {},
   "source": [
    "# sentiment analysis"
   ]
  },
  {
   "cell_type": "code",
   "execution_count": null,
   "metadata": {},
   "outputs": [],
   "source": [
    "sentiment Analysis is also known as opinion mining,is a powerful tool you can use to build smarter products.\n",
    "Example:\n",
    "    1.social media analysis\n",
    "    2.customer analysis\n",
    "    3.survey "
   ]
  },
  {
   "cell_type": "markdown",
   "metadata": {},
   "source": [
    "# anomaly detection"
   ]
  },
  {
   "cell_type": "code",
   "execution_count": null,
   "metadata": {},
   "outputs": [],
   "source": [
    "Anomaly detection is applicable in a variety of domains, such as intrusion detection, fraud detection, fault detection, \n",
    "system health monitoring, event detection in sensor networks, and detecting ecosystem disturbances. It is often used in \n",
    "preprocessing to remove anomalous data from the dataset.\n",
    "EXAMPLES:1.bank fraud\n",
    "    2.medical problems \n",
    "    3.structural defects \n",
    "    4.malfunctioning equipment etc. "
   ]
  },
  {
   "cell_type": "markdown",
   "metadata": {},
   "source": [
    "# Regressions"
   ]
  },
  {
   "cell_type": "code",
   "execution_count": null,
   "metadata": {},
   "outputs": [],
   "source": [
    "Regression analysis is a form of predictive modelling technique which investigates the relationship between a dependent\n",
    "(target) and independent variable (s) (predictor). This technique is used for forecasting, time series modelling and \n",
    "finding the causal effect relationship between the variables.\n",
    "EXAMPLE:"
   ]
  },
  {
   "cell_type": "markdown",
   "metadata": {},
   "source": [
    "# Recommender systems:"
   ]
  },
  {
   "cell_type": "code",
   "execution_count": null,
   "metadata": {},
   "outputs": [],
   "source": [
    "During the last few decades, with the rise of Youtube, Amazon, Netflix and many other such web services, recommender \n",
    "systems have taken more and more place in our lives. From e-commerce (suggest to buyers articles that could interest them) \n",
    "to online advertisement (suggest to users the right contents, matching their preferences), recommender systems are today \n",
    "unavoidable in our daily online journeys.\n",
    "Examples:\n",
    "    "
   ]
  },
  {
   "cell_type": "markdown",
   "metadata": {},
   "source": [
    "# Reinforcement learning:"
   ]
  },
  {
   "cell_type": "code",
   "execution_count": null,
   "metadata": {},
   "outputs": [],
   "source": [
    "Reinforcement learning, in the context of artificial intelligence, is a type of dynamic programming that trains algorithms\n",
    "using a system of reward and punishment. A reinforcement learning algorithm, or agent, learns by interacting with its \n",
    "environment.\n",
    "Example : The problem is as follows: We have an agent and a reward, with many hurdles in between. The agent is supposed to \n",
    "        find the best possible path to reach the reward."
   ]
  },
  {
   "cell_type": "markdown",
   "metadata": {},
   "source": [
    " # NLP:(Natural Language Programming)"
   ]
  },
  {
   "cell_type": "code",
   "execution_count": null,
   "metadata": {},
   "outputs": [],
   "source": [
    "Natural language processing (NLP) is a subfield of linguistics, computer science, information engineering, and artificial \n",
    "intelligence concerned with the interactions between computers and human (natural) languages, in particular how to program \n",
    "computers to process and analyze large amounts of natural language data.\n"
   ]
  },
  {
   "cell_type": "markdown",
   "metadata": {},
   "source": [
    "# Auto completion:"
   ]
  },
  {
   "cell_type": "code",
   "execution_count": null,
   "metadata": {},
   "outputs": [],
   "source": [
    "Autocomplete, or word completion, is a feature in which an application predicts the rest of a word a user is typing."
   ]
  },
  {
   "cell_type": "markdown",
   "metadata": {},
   "source": [
    "# chat bot"
   ]
  },
  {
   "cell_type": "code",
   "execution_count": null,
   "metadata": {},
   "outputs": [],
   "source": [
    "Chatbot or bot – is a computer program that simulates a natural human conversation. Users communicate with a chatbot via \n",
    "the chat interface or by voice, like how they would talk to a real person. Chatbots interpret and process user's words or \n",
    "phrases and give an instant pre-set answer."
   ]
  },
  {
   "cell_type": "markdown",
   "metadata": {},
   "source": [
    "# computer vision"
   ]
  },
  {
   "cell_type": "code",
   "execution_count": null,
   "metadata": {},
   "outputs": [],
   "source": [
    "Computer vision is an interdisciplinary scientific field that deals with how computers can gain high-level understanding \n",
    "from digital images or videos. From the perspective of engineering, it seeks to understand and automate tasks that the \n",
    "human visual system can do."
   ]
  },
  {
   "cell_type": "markdown",
   "metadata": {},
   "source": [
    "# object detection:"
   ]
  },
  {
   "cell_type": "code",
   "execution_count": null,
   "metadata": {},
   "outputs": [],
   "source": [
    "Object detection is a computer vision technique for locating instances of objects in images or videos. Object detection \n",
    "algorithms typically leverage machine learning or deep learning to produce meaningful results.\n"
   ]
  },
  {
   "cell_type": "markdown",
   "metadata": {},
   "source": [
    "# object tracking:"
   ]
  },
  {
   "cell_type": "code",
   "execution_count": null,
   "metadata": {},
   "outputs": [],
   "source": [
    "Object Tracking in Deep Learning. Object tracking is a field within computer vision that involves tracking objects as they\n",
    "move across several video frames. ... We'll see some challenges of object tracking compared to static object detection, \n",
    "including re-identification, appearance and disappearance, and occlusion."
   ]
  },
  {
   "cell_type": "markdown",
   "metadata": {},
   "source": [
    "# Image classification"
   ]
  },
  {
   "cell_type": "code",
   "execution_count": null,
   "metadata": {},
   "outputs": [],
   "source": [
    "Image classification refers to the task of extracting information classes from a multiband raster image. The resulting \n",
    "raster from image classification can be used to create thematic maps. ... The recommended way to perform classification \n",
    "and multivariate analysis is through the Image Classification toolbar."
   ]
  },
  {
   "cell_type": "markdown",
   "metadata": {},
   "source": [
    "# Image tagging"
   ]
  },
  {
   "cell_type": "code",
   "execution_count": null,
   "metadata": {},
   "outputs": [],
   "source": [
    "Image tagging is the process of labeling or keywording images based on figures within a certain picture. Image tagging \n",
    "software automatically tags images, though it's possible for users to fulfill image tagging processes. It makes images \n",
    "on websites more searchable through keywords pertaining to that photo.\n"
   ]
  },
  {
   "cell_type": "markdown",
   "metadata": {},
   "source": [
    "# Numerical data"
   ]
  },
  {
   "cell_type": "code",
   "execution_count": null,
   "metadata": {},
   "outputs": [],
   "source": [
    "Numerical data is data that is measurable, such as time, height, weight, amount, and so on. You can help yourself identify \n",
    "numerical data by seeing if you can average or order the data in either ascending or descending order.\n",
    "EXAMPLE: example of numerical data would be the number of people that attended the movie theater over the course of a month."
   ]
  },
  {
   "cell_type": "markdown",
   "metadata": {},
   "source": [
    "# Image data:"
   ]
  },
  {
   "cell_type": "code",
   "execution_count": null,
   "metadata": {},
   "outputs": [],
   "source": [
    "IMAGE DATA. Image data is most often used to represent graphic or pictorial data. The term image inherently reflects a \n",
    "graphic representation, and in the GIS world, differs significant for data.\n",
    "Example:GIF files\n",
    "    "
   ]
  },
  {
   "cell_type": "markdown",
   "metadata": {},
   "source": [
    "# Audio data:\n"
   ]
  },
  {
   "cell_type": "code",
   "execution_count": 1,
   "metadata": {},
   "outputs": [
    {
     "ename": "SyntaxError",
     "evalue": "invalid syntax (<ipython-input-1-bec8b8d676f1>, line 1)",
     "output_type": "error",
     "traceback": [
      "\u001b[1;36m  File \u001b[1;32m\"<ipython-input-1-bec8b8d676f1>\"\u001b[1;36m, line \u001b[1;32m1\u001b[0m\n\u001b[1;33m    Audio data is analog sound wave, that coded in digital form. There are 2 main types of audio data coding: Pulse Code\u001b[0m\n\u001b[1;37m             ^\u001b[0m\n\u001b[1;31mSyntaxError\u001b[0m\u001b[1;31m:\u001b[0m invalid syntax\n"
     ]
    }
   ],
   "source": [
    "Audio data is analog sound wave, that coded in digital form. There are 2 main types of audio data coding: Pulse Code \n",
    "Modulation (PCM) Direct Stream Digital (DSD)\n",
    "Example:\n",
    "1.Raw Sound Files.\n",
    "2.AU/SND Files.\n",
    "3.WAVE Files.\n",
    "4.AIFF Files.\n",
    "5.MP3 Files.\n",
    "6.OGG Files.\n",
    "7.RAM Files.\n"
   ]
  },
  {
   "cell_type": "markdown",
   "metadata": {},
   "source": [
    "# Video data:"
   ]
  },
  {
   "cell_type": "code",
   "execution_count": null,
   "metadata": {},
   "outputs": [],
   "source": [
    "Video data normally occurs as continuous, analog signals. In order for a computer to process this video data, we must \n",
    "convert the analog signals to a non-continuous, digital format. In a digital format, the video data can be stored as a \n",
    "series of bits on a hard disk or in computer memory.\n",
    "Example:Use Video Data and Analytics to Enhance Performance."
   ]
  },
  {
   "cell_type": "markdown",
   "metadata": {},
   "source": [
    "# Text data:"
   ]
  },
  {
   "cell_type": "code",
   "execution_count": null,
   "metadata": {},
   "outputs": [],
   "source": [
    "Text data usually consists of documents which can represent words, sentences or even paragraphs of free flowing text. \n",
    "The inherent unstructured (no neatly formatted data columns!) and noisy nature of textual data makes it harder for machine\n",
    "learning methods to directly work on raw text data.\n",
    " Example:focus primarily on literary texts—novels, essays, stories, and poems."
   ]
  },
  {
   "cell_type": "markdown",
   "metadata": {},
   "source": [
    "# Documents:\n"
   ]
  },
  {
   "cell_type": "code",
   "execution_count": null,
   "metadata": {},
   "outputs": [],
   "source": [
    "\"Document\" usually denotes a primarily textual computer file, including its structure and format.\n",
    "Examples: fonts, colors, and images.\n",
    "1.paper, given the existence of electronic documents."
   ]
  },
  {
   "cell_type": "markdown",
   "metadata": {},
   "source": [
    "# Satellite imagery:"
   ]
  },
  {
   "cell_type": "code",
   "execution_count": null,
   "metadata": {},
   "outputs": [],
   "source": [
    "Satellite images are one of the most powerful and important tools used by the meteorologist. They are essentially the eyes \n",
    "in the sky. These images reassure forecasters to the behavior of the atmosphere as they give a clear, concise, and\n",
    "accurate representation of how events are unfolding.\n",
    "EXAMPLE:1.available via their EarthExplorer\n",
    "2.LandViewer\n",
    "3.Copernicus Open Access Hub. \n",
    "4.Sentinel Hub. \n",
    "5.NASA Earthdata Search. \n",
    "6.Remote Pixel. \n",
    "7.INPE Image Catalog.\n"
   ]
  },
  {
   "cell_type": "markdown",
   "metadata": {},
   "source": [
    "# TIME SERIES:"
   ]
  },
  {
   "cell_type": "code",
   "execution_count": null,
   "metadata": {},
   "outputs": [],
   "source": [
    "A time-series database (TSDB) is a computer system that is designed to store and retrieve data records that are part of a \n",
    "“time series,” which is a set of data points that are associated with timestamps. The timestamps provide a critical \n",
    "context for each of the data points in how they are related to others.\n",
    "Example:\n",
    "1.heights of ocean tides \n",
    "2.counts of sunspots and \n",
    "3.The daily closing value of the  Industrial Average."
   ]
  }
 ],
 "metadata": {
  "kernelspec": {
   "display_name": "Python 3",
   "language": "python",
   "name": "python3"
  },
  "language_info": {
   "codemirror_mode": {
    "name": "ipython",
    "version": 3
   },
   "file_extension": ".py",
   "mimetype": "text/x-python",
   "name": "python",
   "nbconvert_exporter": "python",
   "pygments_lexer": "ipython3",
   "version": "3.7.1"
  }
 },
 "nbformat": 4,
 "nbformat_minor": 2
}
