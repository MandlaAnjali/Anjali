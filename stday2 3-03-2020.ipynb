{
 "cells": [
  {
   "cell_type": "markdown",
   "metadata": {},
   "source": [
    "# built in methods in string mostly we used"
   ]
  },
  {
   "cell_type": "markdown",
   "metadata": {},
   "source": [
    "-1. find\n",
    "-2. isalpha\n",
    "-3. isalnum\n",
    "-4. replace\n",
    "-5. count\n",
    "-6. isupper\n",
    "-7. islower\n",
    "-8. upper\n",
    "-9. split\n",
    "-10. swap\n",
    "-11. isupper\n",
    "-12. lower\n",
    "-13. isdigit\n",
    "-14. isnumeric\n"
   ]
  },
  {
   "cell_type": "code",
   "execution_count": 5,
   "metadata": {},
   "outputs": [
    {
     "name": "stdout",
     "output_type": "stream",
     "text": [
      "-1\n",
      "8\n",
      "False\n",
      "False\n",
      "False\n",
      "False\n",
      "ABC XYZ UVW\n",
      "['abc', 'xyz', 'uvw']\n",
      "['x', 'y', 'z']\n"
     ]
    }
   ],
   "source": [
    "s1 = \"abc xyz uvw\"\n",
    "s2 = \"x,y,z\"\n",
    "print(s1.find(s2))\n",
    "print(s1.find(\"uvw\"))\n",
    "print(s1.isalpha())#False\n",
    "print(s2.isalpha())#True\n",
    "print(s1.isalnum())#False\n",
    "print(s2.isalnum())#True\n",
    "print(s1.swapcase())#ABC XYZ\n",
    "print(s1.split())#default value is space\n",
    "list1 = s2.split(\",\")"
   ]
  },
  {
   "cell_type": "code",
   "execution_count": 11,
   "metadata": {},
   "outputs": [
    {
     "name": "stdout",
     "output_type": "stream",
     "text": [
      "enter string1water\n",
      "enter string1bad\n",
      "w b\n",
      "a a\n",
      "t d\n",
      "e *\n",
      "r *\n"
     ]
    }
   ],
   "source": [
    "s1 = input(\"enter string1\")#bad\n",
    "s2 = input(\"enter string1\")#water\n",
    "if(len(s1)==len(s2)):\n",
    "    for i in range(len(s1)):\n",
    "        print(s1[i],s2[i])\n",
    "elif(len(s1)<len(s2)):\n",
    "    for i in range(len(s1)):\n",
    "        print(s1[i],s2[i])\n",
    "    for i in range(len(s1),len(s2)):\n",
    "        print(\"*\",s2[i])\n",
    "else:\n",
    "    for i in range(len(s2)):\n",
    "        print(s1[i],s2[i])\n",
    "    for i in range(len(s2),len(s1)):\n",
    "        print(s1[i],\"*\")\n",
    "    "
   ]
  },
  {
   "cell_type": "code",
   "execution_count": 12,
   "metadata": {
    "collapsed": true
   },
   "outputs": [
    {
     "name": "stdout",
     "output_type": "stream",
     "text": [
      "enter string1bad\n",
      "enter string1water\n",
      "b w\n",
      "a a\n",
      "d t\n",
      "* e\n",
      "* r\n"
     ]
    }
   ],
   "source": [
    "s1 = input(\"enter string1\")#bad\n",
    "s2 = input(\"enter string1\")#water\n",
    "if len(s1)<len(s2):\n",
    "    diff = len(s2)-len(s1)\n",
    "    s1 = s1+\"*\"*diff   \n",
    "elif len(s1)>len(s2):\n",
    "    diff = len(s1)-len(s2)\n",
    "    s2 = s2+\"*\"*diff\n",
    "for i in range(len(s1)):\n",
    "    print(s1[i],s2[i])"
   ]
  },
  {
   "cell_type": "code",
   "execution_count": 17,
   "metadata": {},
   "outputs": [
    {
     "name": "stdout",
     "output_type": "stream",
     "text": [
      "enter a stringorange\n",
      "puboif"
     ]
    }
   ],
   "source": [
    "#input : orange\n",
    "#output : puboif\n",
    "s = input(\"enter a string\")\n",
    "vowels = \"aeiouAEIOU\"\n",
    "for i in s:\n",
    "    if (i in vowels):\n",
    "        print(chr(ord(i)+1),end=\"\")\n",
    "    else:\n",
    "        if(i>'a' and i<'e'):\n",
    "            print('e',end=\"\")\n",
    "        elif(i>'e' and i<'i'):\n",
    "            print('i',end=\"\")\n",
    "        elif(i>'i' and i<'o'):\n",
    "            print('o',end=\"\")\n",
    "        elif(i>'o' and i<'u'):\n",
    "            print('u',end=\"\")\n",
    "        elif(i>'u' and i<='z'):\n",
    "            print('a')  "
   ]
  },
  {
   "cell_type": "markdown",
   "metadata": {},
   "source": [
    "### operators:"
   ]
  },
  {
   "cell_type": "code",
   "execution_count": 19,
   "metadata": {},
   "outputs": [
    {
     "name": "stdout",
     "output_type": "stream",
     "text": [
      "30\n",
      "-10\n",
      "200\n",
      "0.5\n",
      "10\n",
      "0\n",
      "100000000000000000000\n"
     ]
    }
   ],
   "source": [
    "#1.Arithmetic operator:+,_,*,/,%,//(floor division),**(exponent)\n",
    "x = 10\n",
    "y = 20\n",
    "print(x + y)\n",
    "print(x - y)\n",
    "print(x * y)\n",
    "print(x / y)\n",
    "print(x % y)\n",
    "print(x // y)\n",
    "print(x ** y)#10^20"
   ]
  },
  {
   "cell_type": "code",
   "execution_count": 20,
   "metadata": {},
   "outputs": [
    {
     "name": "stdout",
     "output_type": "stream",
     "text": [
      "True\n",
      "True\n",
      "False\n",
      "False\n",
      "False\n",
      "True\n"
     ]
    }
   ],
   "source": [
    "#2.Relatioal operators:<,>,<=,>=,==,!=\n",
    "x = 10\n",
    "y = 20\n",
    "print(x < y)\n",
    "print(x <= y)\n",
    "print(x >= y)\n",
    "print(x > y)\n",
    "print(x == y)\n",
    "print(x != y)"
   ]
  },
  {
   "cell_type": "code",
   "execution_count": 21,
   "metadata": {},
   "outputs": [
    {
     "name": "stdout",
     "output_type": "stream",
     "text": [
      "False\n",
      "True\n",
      "False\n"
     ]
    }
   ],
   "source": [
    "#3.Logical operators : and,or,not\n",
    "print(x<y and x<5)\n",
    "print(x<y or x<5)\n",
    "print(not x<y)"
   ]
  },
  {
   "cell_type": "code",
   "execution_count": 22,
   "metadata": {},
   "outputs": [
    {
     "name": "stdout",
     "output_type": "stream",
     "text": [
      "20\n"
     ]
    }
   ],
   "source": [
    "#4.Assignment operators:=,+=,-=,*=,/=,%=,//=,**=\n",
    "x = 10\n",
    "y = 20\n",
    "x+=10 #x = x+10\n",
    "print(x)"
   ]
  },
  {
   "cell_type": "code",
   "execution_count": 24,
   "metadata": {},
   "outputs": [
    {
     "name": "stdout",
     "output_type": "stream",
     "text": [
      "0\n",
      "30\n",
      "30\n",
      "40\n",
      "2\n",
      "-11\n"
     ]
    }
   ],
   "source": [
    "#5.Bit-wise operators:&,|,^,~,<<,>>\n",
    "x = 10 #0000 1010\n",
    "y = 20 #0001 0100\n",
    "print(x & y)#0000 0000\n",
    "print(x | y)#0001 1110\n",
    "print(x ^ y)#0001 1110\n",
    "print(x<<2)#0010 1000\n",
    "print(x>>2)#0000 0010\n",
    "print(~x)"
   ]
  },
  {
   "cell_type": "code",
   "execution_count": 27,
   "metadata": {},
   "outputs": [
    {
     "name": "stdout",
     "output_type": "stream",
     "text": [
      "False\n",
      "True\n",
      "True\n",
      "False\n"
     ]
    }
   ],
   "source": [
    "#6.Membership operators:in,not in\n",
    "s = \"python\"\n",
    "print('z' in s)\n",
    "print('t' in s)\n",
    "print('z' not in s)\n",
    "print('t' not in s)"
   ]
  },
  {
   "cell_type": "code",
   "execution_count": 30,
   "metadata": {},
   "outputs": [
    {
     "name": "stdout",
     "output_type": "stream",
     "text": [
      "True\n",
      "False\n",
      "False\n",
      "True\n"
     ]
    }
   ],
   "source": [
    "#7.identity operator:is,is not\n",
    "x = 10\n",
    "y = 20\n",
    "z = 10\n",
    "print(x is z)#id(x)==id(z)-->True\n",
    "print(x is y)\n",
    "print(x is not z)\n",
    "print(x is not y)"
   ]
  },
  {
   "cell_type": "code",
   "execution_count": 31,
   "metadata": {},
   "outputs": [
    {
     "name": "stdout",
     "output_type": "stream",
     "text": [
      "20\n",
      "20\n"
     ]
    }
   ],
   "source": [
    "#8.\n",
    "#Traditional way\n",
    "x = 10\n",
    "y = 20\n",
    "if(x>y):\n",
    "    print(x)\n",
    "else:\n",
    "    print(y)\n",
    "#ternary operator\n",
    "print(x) if(x>y) else print(y)"
   ]
  },
  {
   "cell_type": "code",
   "execution_count": null,
   "metadata": {},
   "outputs": [],
   "source": [
    "#conditional control statements:if,else,elif\n",
    "# Accpet 3 subjects marks of a student and check whether student got\n",
    "# minimum 30 marks in all subjects or not\n",
    "# if he gets minimum 30 in all subjects the find average marks else\n",
    "# print FAIL.\n",
    "# avg>=75-->A\n",
    "# avg<75 and avg>=60-->B\n",
    "# avg<60 and avg>=45-->C\n",
    "# avg<45 and avg>=30-->D\n",
    "# else FAIL\n",
    "m1 = int(input(\"enter sub1 marks\"))\n",
    "m2 = int(input(\"enter sub2 marks\"))\n",
    "m3 = int(input(\"enter sub3 marks\"))\n",
    "if(m1>30 and m2>30 and m3>30):\n",
    "    avg = (m1+m2+m3)/3\n",
    "    if(avg>=75):\n",
    "        print(\"A\")\n",
    "    elif(avg<75 and avg>=60):\n",
    "        print(\"B\")\n",
    "    elif(avg<60 and avg>=45):\n",
    "        print(\"C\")\n",
    "    elif(avg<45 and avg>=30):\n",
    "        print(\"D\")\n",
    "    else:\n",
    "        print(\"FAIL\")\n",
    "else:\n",
    "    print(\"FAIL\")"
   ]
  },
  {
   "cell_type": "code",
   "execution_count": 34,
   "metadata": {},
   "outputs": [
    {
     "name": "stdout",
     "output_type": "stream",
     "text": [
      "enter a vlue10\n",
      "1 2 3 4 5 6 7 8 9 10 \n",
      "1 2 3 4 5 6 7 8 9 10 "
     ]
    }
   ],
   "source": [
    "#loops:while,for\n",
    "i = 1\n",
    "n = int(input(\"enter a vlue\"))\n",
    "while i<=n:\n",
    "    print(i,end=\" \")\n",
    "    i+=1\n",
    "print()\n",
    "for i in range(1,n+1,1):\n",
    "    print(i,end=\" \")"
   ]
  },
  {
   "cell_type": "code",
   "execution_count": 37,
   "metadata": {
    "collapsed": true
   },
   "outputs": [
    {
     "name": "stdout",
     "output_type": "stream",
     "text": [
      "enter a stringxcvbnm,\n",
      "x\n",
      "c\n",
      "v\n",
      "b\n",
      "n\n",
      "m\n",
      ",\n"
     ]
    }
   ],
   "source": [
    "#Accept a string as an input and print all the characters of the \n",
    "#string without using len() and  using while loop\n",
    "s = input(\"enter a string\")\n",
    "l = 0#length of string\n",
    "j = 0\n",
    "for i in s:#counting no.of characters of string\n",
    "    l+=1   \n",
    "while j<l:#printing characters \n",
    "    print(s[j])\n",
    "    j+=1"
   ]
  },
  {
   "cell_type": "code",
   "execution_count": 39,
   "metadata": {},
   "outputs": [
    {
     "name": "stdout",
     "output_type": "stream",
     "text": [
      "enter a stringmadam\n",
      "palindrome\n"
     ]
    }
   ],
   "source": [
    "#Accpept a string as an input and check whether the string is \n",
    "#palindrome or not\n",
    "#input : madam\n",
    "#output : palindrome\n",
    "s = input(\"enter a string\")\n",
    "print(\"palindrome\") if s==s[::-1] else print(\"not palindrome\")"
   ]
  },
  {
   "cell_type": "code",
   "execution_count": 3,
   "metadata": {},
   "outputs": [
    {
     "name": "stdout",
     "output_type": "stream",
     "text": [
      "enter a number121\n",
      "palindrome\n"
     ]
    }
   ],
   "source": [
    "#Accept a number as an input and check whether it is palindrome or not\n",
    "n = int(input(\"enter a number\"))\n",
    "print(\"palindrome\") if(str(n)==str(n)[::-1]) else print(\"not palindrome\")"
   ]
  },
  {
   "cell_type": "code",
   "execution_count": 8,
   "metadata": {},
   "outputs": [
    {
     "name": "stdout",
     "output_type": "stream",
     "text": [
      "5\n",
      "5 * 1 = 5\n",
      "5 * 2 = 10\n",
      "5 * 3 = 15\n",
      "5 * 4 = 20\n",
      "5 * 5 = 25\n",
      "5 * 6 = 30\n",
      "5 * 7 = 35\n",
      "5 * 8 = 40\n",
      "5 * 9 = 45\n",
      "5 * 10 = 50\n"
     ]
    }
   ],
   "source": [
    "#Accept a number as an input and print the given number table \n",
    "#input : 5\n",
    "#output : \n",
    "# 5*1=5\n",
    "# 5*2=10\n",
    "# 5*3=15\n",
    "# ------\n",
    "# 5*10=15\n",
    "n = int(input())\n",
    "for i in range(1,11):\n",
    "    #print(n,\"*\",i,\"=\",n*i)\n",
    "    print(\"%d * %d = %d\"%(n,i,n*i))"
   ]
  },
  {
   "cell_type": "code",
   "execution_count": 2,
   "metadata": {},
   "outputs": [
    {
     "name": "stdout",
     "output_type": "stream",
     "text": [
      "15\n",
      "1\n",
      "2\n",
      "fizz\n",
      "4\n",
      "buzz\n",
      "fizz\n",
      "7\n",
      "8\n",
      "fizz\n",
      "buzz\n",
      "11\n",
      "fizz\n",
      "13\n",
      "14\n",
      "fizzbuzz\n"
     ]
    }
   ],
   "source": [
    "#Accept a number as an input and print the output in the following\n",
    "#manner\n",
    "#input : 15\n",
    "#output :\n",
    "n = int(input())\n",
    "for i in range(1,n+1):\n",
    "    if(i%3==0 and i%5==0):\n",
    "        print(\"fizzbuzz\")\n",
    "    elif(i%5==0):\n",
    "        print(\"buzz\")\n",
    "    elif(i%3==0 ):\n",
    "        print(\"fizz\")\n",
    "    else:\n",
    "        print(i)"
   ]
  },
  {
   "cell_type": "markdown",
   "metadata": {},
   "source": [
    "### Questions:\n",
    "1. Accept a number and check whether it is a prime or not\n",
    "2. print the count of prime numbers in the given range\n",
    "3. Accept a number and check whether it is perfect number or not\n",
    "###### explanation:6-->1,2,3=1+2+3=6\n",
    "4. Accept a number and check whether it is Armstrong number or not\n",
    "###### explanation:153-->1^3+5^3+3^3\n",
    "5. find the factorial of a given number \n",
    "6. Accept a number and check whether it is strong number or not\n",
    "###### explanation:145=1!+4!+5!=1+24+120=145\n",
    "7. Accept a number and check whether it is Adam number or not\n",
    "###### explanation:12-->12^2=144\n",
    "###### 21*21=441\n",
    "###### reverse(144)=441\n",
    "8. print all the palindrome numbers in the given range\n"
   ]
  },
  {
   "cell_type": "code",
   "execution_count": null,
   "metadata": {},
   "outputs": [],
   "source": []
  }
 ],
 "metadata": {
  "kernelspec": {
   "display_name": "Python 3",
   "language": "python",
   "name": "python3"
  },
  "language_info": {
   "codemirror_mode": {
    "name": "ipython",
    "version": 3
   },
   "file_extension": ".py",
   "mimetype": "text/x-python",
   "name": "python",
   "nbconvert_exporter": "python",
   "pygments_lexer": "ipython3",
   "version": "3.7.1"
  }
 },
 "nbformat": 4,
 "nbformat_minor": 2
}
