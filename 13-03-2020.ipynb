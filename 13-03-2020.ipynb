{
 "cells": [
  {
   "cell_type": "code",
   "execution_count": null,
   "metadata": {},
   "outputs": [],
   "source": [
    "- list\n",
    "- tuple\n",
    "- set"
   ]
  },
  {
   "cell_type": "code",
   "execution_count": null,
   "metadata": {},
   "outputs": [],
   "source": [
    "dictionary\n",
    "# how to crate an empty dictionary\n",
    " - {}\n",
    " - dict()\n",
    " - how to add elements\n",
    "    -d['new key']=value\n",
    " - what are the rules for keys\n",
    "   -immutable data as key\n",
    " - how the operators  will works on dict\n",
    " - dictionary methods"
   ]
  },
  {
   "cell_type": "code",
   "execution_count": 1,
   "metadata": {},
   "outputs": [
    {
     "name": "stdout",
     "output_type": "stream",
     "text": [
      "{} <class 'dict'>\n"
     ]
    }
   ],
   "source": [
    "empty_marks = {}\n",
    "print(empty_marks,type(empty_marks))"
   ]
  },
  {
   "cell_type": "code",
   "execution_count": null,
   "metadata": {},
   "outputs": [],
   "source": [
    "{key1:value1,key2:value2,key3:value3}"
   ]
  },
  {
   "cell_type": "code",
   "execution_count": 3,
   "metadata": {},
   "outputs": [],
   "source": [
    "marks = {\"415\":78,\"890\":92}\n",
    "marks1 = {415:78,890:92}"
   ]
  },
  {
   "cell_type": "code",
   "execution_count": 4,
   "metadata": {},
   "outputs": [
    {
     "name": "stdout",
     "output_type": "stream",
     "text": [
      "{'415': 78, '890': 92} {415: 78, 890: 92}\n"
     ]
    }
   ],
   "source": [
    "print(marks,marks1)"
   ]
  },
  {
   "cell_type": "code",
   "execution_count": 5,
   "metadata": {},
   "outputs": [
    {
     "data": {
      "text/plain": [
       "{('hema', 567): 98, ('raj', 512): 56}"
      ]
     },
     "execution_count": 5,
     "metadata": {},
     "output_type": "execute_result"
    }
   ],
   "source": [
    "marks_names = {('hema',567):98,('raj',512):56}\n",
    "marks_names"
   ]
  },
  {
   "cell_type": "code",
   "execution_count": 6,
   "metadata": {},
   "outputs": [
    {
     "name": "stdout",
     "output_type": "stream",
     "text": [
      "78\n",
      "78\n",
      "98\n"
     ]
    }
   ],
   "source": [
    "#how to access an element\n",
    "print(marks['415'])\n",
    "print(marks1[415])\n",
    "print(marks_names[('hema',567)])"
   ]
  },
  {
   "cell_type": "code",
   "execution_count": 7,
   "metadata": {},
   "outputs": [
    {
     "name": "stdout",
     "output_type": "stream",
     "text": [
      "{'415': 78, '890': 92, '413': 78}\n"
     ]
    }
   ],
   "source": [
    "#how to add a new element to the dict\n",
    "marks['413']=78\n",
    "print(marks)"
   ]
  },
  {
   "cell_type": "code",
   "execution_count": 8,
   "metadata": {},
   "outputs": [
    {
     "name": "stdout",
     "output_type": "stream",
     "text": [
      "{'415': 78, '890': 92, '413': 87}\n"
     ]
    }
   ],
   "source": [
    "# to update a value in dictionary\n",
    "marks['413']=87\n",
    "print(marks)"
   ]
  },
  {
   "cell_type": "code",
   "execution_count": 9,
   "metadata": {},
   "outputs": [
    {
     "name": "stdout",
     "output_type": "stream",
     "text": [
      "{'415': 78, '890': 92, '413': 87, 413: 87}\n"
     ]
    }
   ],
   "source": [
    "# trying to update the value but it will create new \n",
    "marks[413]=87\n",
    "print(marks)"
   ]
  },
  {
   "cell_type": "code",
   "execution_count": 10,
   "metadata": {},
   "outputs": [
    {
     "name": "stdout",
     "output_type": "stream",
     "text": [
      "87\n"
     ]
    }
   ],
   "source": [
    "var = \"413\"\n",
    "print(marks[var])"
   ]
  },
  {
   "cell_type": "code",
   "execution_count": 11,
   "metadata": {},
   "outputs": [
    {
     "name": "stdout",
     "output_type": "stream",
     "text": [
      "{'415': 78, '890': 92, '413': 87, 413: 87, '555': 78}\n"
     ]
    }
   ],
   "source": [
    "var1 = \"555\"\n",
    "marks[var1]=78\n",
    "print(marks)"
   ]
  },
  {
   "cell_type": "code",
   "execution_count": 12,
   "metadata": {},
   "outputs": [
    {
     "name": "stdout",
     "output_type": "stream",
     "text": [
      "{'C': 6, 'py': 9, 'R': 7, 'Go': 8}\n"
     ]
    }
   ],
   "source": [
    "ratings = {\"C\":6,\"py\":9,\"R\":7,\"Go\":8}\n",
    "print(ratings)"
   ]
  },
  {
   "cell_type": "code",
   "execution_count": 14,
   "metadata": {},
   "outputs": [
    {
     "name": "stdout",
     "output_type": "stream",
     "text": [
      "C py R Go "
     ]
    }
   ],
   "source": [
    "for x in ratings:\n",
    "    print(x,end=' ')"
   ]
  },
  {
   "cell_type": "code",
   "execution_count": 15,
   "metadata": {},
   "outputs": [
    {
     "data": {
      "text/plain": [
       "6"
      ]
     },
     "execution_count": 15,
     "metadata": {},
     "output_type": "execute_result"
    }
   ],
   "source": [
    "ratings['C']"
   ]
  },
  {
   "cell_type": "code",
   "execution_count": 16,
   "metadata": {},
   "outputs": [
    {
     "name": "stdout",
     "output_type": "stream",
     "text": [
      "6 9 7 8 "
     ]
    }
   ],
   "source": [
    "for x in ratings:\n",
    "    print(ratings[x],end=' ')"
   ]
  },
  {
   "cell_type": "code",
   "execution_count": 17,
   "metadata": {},
   "outputs": [],
   "source": [
    "# \"C\":6\n",
    "# \"py\":9"
   ]
  },
  {
   "cell_type": "code",
   "execution_count": 18,
   "metadata": {},
   "outputs": [
    {
     "name": "stdout",
     "output_type": "stream",
     "text": [
      "\"C\":6\n",
      "\"py\":9\n",
      "\"R\":7\n",
      "\"Go\":8\n"
     ]
    }
   ],
   "source": [
    "for x in ratings:\n",
    "    print('\"'+x+'\"',ratings[x],sep=':')"
   ]
  },
  {
   "cell_type": "code",
   "execution_count": 19,
   "metadata": {},
   "outputs": [
    {
     "name": "stdout",
     "output_type": "stream",
     "text": [
      "\"C\":6\n",
      "\"py\":9\n",
      "\"R\":7\n",
      "\"Go\":8\n"
     ]
    }
   ],
   "source": [
    "for x in ratings:\n",
    "    print('\"'+x+'\":'+str(ratings[x]))"
   ]
  },
  {
   "cell_type": "code",
   "execution_count": 27,
   "metadata": {},
   "outputs": [
    {
     "data": {
      "text/plain": [
       "{1: 1, 2: 8, 3: 27, 4: 64, 5: 125, 6: 216, 7: 343, 8: 512, 9: 729, 10: 1000}"
      ]
     },
     "execution_count": 27,
     "metadata": {},
     "output_type": "execute_result"
    }
   ],
   "source": [
    "# {1:1,2:8,3:27,.............10:1000}\n",
    "d = {}\n",
    "for i in range(1,11):\n",
    "    d[i]=i**3\n",
    "d\n"
   ]
  },
  {
   "cell_type": "code",
   "execution_count": 28,
   "metadata": {},
   "outputs": [
    {
     "name": "stdout",
     "output_type": "stream",
     "text": [
      "1 2 3 4 5 6 7 8 9 10 "
     ]
    }
   ],
   "source": [
    "for i in d:\n",
    "    print(i,end=' ')"
   ]
  },
  {
   "cell_type": "code",
   "execution_count": 29,
   "metadata": {},
   "outputs": [
    {
     "name": "stdout",
     "output_type": "stream",
     "text": [
      "True\n",
      "False\n"
     ]
    }
   ],
   "source": [
    "print(4 in d)\n",
    "print(11 in d)"
   ]
  },
  {
   "cell_type": "code",
   "execution_count": 36,
   "metadata": {},
   "outputs": [
    {
     "name": "stdout",
     "output_type": "stream",
     "text": [
      "{'vowels': ['ian', 'ali', 'akash'], 'consonants': ['hari', 'balu', 'roja']}\n"
     ]
    }
   ],
   "source": [
    "#i/p :[\"ian\",\"hari\",\"ali\",\"akash\",\"balu\",\"roja\"]\n",
    "#o/p:{\"vowels\":[\"ian\",\"ali\",\"akash\"],\n",
    "#\"consonants\":[\"hari\",\"balu\",\"roja\"]\n",
    "out={}\n",
    "names=[\"ian\",\"hari\",\"ali\",\"akash\",\"balu\",\"roja\"]\n",
    "for i in range(len(names)):\n",
    "    if names[i][0]  in \"aeiou\":\n",
    "        if \"vowels\" in out:\n",
    "            out['vowels'].append(names[i])\n",
    "        else:\n",
    "            out['vowels']=[names[i]]\n",
    "    else:\n",
    "        if 'consonants' in out:\n",
    "            out['consonants'].append(names[i])\n",
    "        else:\n",
    "            out['consonants']=[names[i]]\n",
    "print(out)"
   ]
  },
  {
   "cell_type": "code",
   "execution_count": 45,
   "metadata": {},
   "outputs": [
    {
     "data": {
      "text/plain": [
       "['P',\n",
       " 'e',\n",
       " 't',\n",
       " 'e',\n",
       " 'r',\n",
       " ' ',\n",
       " 'P',\n",
       " 'i',\n",
       " 'p',\n",
       " 'e',\n",
       " 'r',\n",
       " ' ',\n",
       " 'p',\n",
       " 'i',\n",
       " 'c',\n",
       " 'k',\n",
       " 'e',\n",
       " 'd',\n",
       " ' ',\n",
       " 'a',\n",
       " ' ',\n",
       " 'p',\n",
       " 'e',\n",
       " 'c',\n",
       " 'k',\n",
       " ' ',\n",
       " 'o',\n",
       " 'f',\n",
       " ' ',\n",
       " 'p',\n",
       " 'i',\n",
       " 'c',\n",
       " 'k',\n",
       " 'l',\n",
       " 'e',\n",
       " 'd',\n",
       " ' ',\n",
       " 'p',\n",
       " 'e',\n",
       " 'p',\n",
       " 'p',\n",
       " 'e',\n",
       " 'r',\n",
       " 's',\n",
       " ' ',\n",
       " 'A',\n",
       " ' ',\n",
       " 'p',\n",
       " 'e',\n",
       " 'c',\n",
       " 'k',\n",
       " ' ',\n",
       " 'o',\n",
       " 'f',\n",
       " ' ',\n",
       " 'p',\n",
       " 'i',\n",
       " 'c',\n",
       " 'k',\n",
       " 'l',\n",
       " 'e',\n",
       " 'd',\n",
       " ' ',\n",
       " 'p',\n",
       " 'e',\n",
       " 'p',\n",
       " 'p',\n",
       " 'e',\n",
       " 'r',\n",
       " 's',\n",
       " ' ',\n",
       " 'P',\n",
       " 'e',\n",
       " 't',\n",
       " 'e',\n",
       " 'r',\n",
       " ' ',\n",
       " 'P',\n",
       " 'i',\n",
       " 'p',\n",
       " 'e',\n",
       " 'r',\n",
       " ' ',\n",
       " 'p',\n",
       " 'i',\n",
       " 'c',\n",
       " 'k',\n",
       " 'e',\n",
       " 'd',\n",
       " ' ',\n",
       " 'I',\n",
       " 'f',\n",
       " ' ',\n",
       " 'P',\n",
       " 'e',\n",
       " 't',\n",
       " 'e',\n",
       " 'r',\n",
       " ' ',\n",
       " 'P',\n",
       " 'i',\n",
       " 'p',\n",
       " 'e',\n",
       " 'r',\n",
       " ' ',\n",
       " 'p',\n",
       " 'i',\n",
       " 'c',\n",
       " 'k',\n",
       " 'e',\n",
       " 'd',\n",
       " ' ',\n",
       " 'a',\n",
       " ' ',\n",
       " 'p',\n",
       " 'e',\n",
       " 'c',\n",
       " 'k',\n",
       " ' ',\n",
       " 'o',\n",
       " 'f',\n",
       " ' ',\n",
       " 'p',\n",
       " 'i',\n",
       " 'c',\n",
       " 'k',\n",
       " 'l',\n",
       " 'e',\n",
       " 'd',\n",
       " ' ',\n",
       " 'p',\n",
       " 'e',\n",
       " 'p',\n",
       " 'p',\n",
       " 'e',\n",
       " 'r',\n",
       " 's',\n",
       " ' ',\n",
       " 'W',\n",
       " 'h',\n",
       " 'e',\n",
       " 'r',\n",
       " 'e',\n",
       " '’',\n",
       " 's',\n",
       " ' ',\n",
       " 't',\n",
       " 'h',\n",
       " 'e',\n",
       " ' ',\n",
       " 'p',\n",
       " 'e',\n",
       " 'c',\n",
       " 'k',\n",
       " ' ',\n",
       " 'o',\n",
       " 'f',\n",
       " ' ',\n",
       " 'p',\n",
       " 'i',\n",
       " 'c',\n",
       " 'k',\n",
       " 'l',\n",
       " 'e',\n",
       " 'd',\n",
       " ' ',\n",
       " 'p',\n",
       " 'e',\n",
       " 'p',\n",
       " 'p',\n",
       " 'e',\n",
       " 'r',\n",
       " 's',\n",
       " ' ',\n",
       " 'P',\n",
       " 'e',\n",
       " 't',\n",
       " 'e',\n",
       " 'r',\n",
       " ' ',\n",
       " 'P',\n",
       " 'i',\n",
       " 'p',\n",
       " 'e',\n",
       " 'r',\n",
       " ' ',\n",
       " 'p',\n",
       " 'i',\n",
       " 'c',\n",
       " 'k',\n",
       " 'e',\n",
       " 'd']"
      ]
     },
     "execution_count": 45,
     "metadata": {},
     "output_type": "execute_result"
    }
   ],
   "source": [
    "#Peter Piper picked a peck of pickled peppers A peck of pickled peppers Peter Piper picked If Peter Piper picked a peck of pickled peppers Where’s the peck of pickled peppers Peter Piper picked?\n",
    "\n",
    "#Get the word frequency as a dict from text above\n",
    "#keys as unique words\n",
    "#value as no of times that key ocuuered in text\n",
    "text = 'Peter Piper picked a peck of pickled peppers A peck of pickled peppers Peter Piper picked If Peter Piper picked a peck of pickled peppers Where’s the peck of pickled peppers Peter Piper picked'\n",
    "list(text)\n"
   ]
  },
  {
   "cell_type": "code",
   "execution_count": 46,
   "metadata": {},
   "outputs": [
    {
     "name": "stdout",
     "output_type": "stream",
     "text": [
      "['peppers', 'peter', 'picked', 'if', 'where’s', 'piper', 'pickled', 'of', 'the', 'a', 'peck']\n"
     ]
    }
   ],
   "source": [
    "words = []\n",
    "for word in text.split():\n",
    "    words.append(word.lower())\n",
    "print(list(set(words)))"
   ]
  },
  {
   "cell_type": "code",
   "execution_count": 47,
   "metadata": {},
   "outputs": [
    {
     "data": {
      "text/plain": [
       "{'peter': 4,\n",
       " 'piper': 4,\n",
       " 'picked': 4,\n",
       " 'a': 3,\n",
       " 'peck': 4,\n",
       " 'of': 4,\n",
       " 'pickled': 4,\n",
       " 'peppers': 4,\n",
       " 'if': 1,\n",
       " 'where’s': 1,\n",
       " 'the': 1}"
      ]
     },
     "execution_count": 47,
     "metadata": {},
     "output_type": "execute_result"
    }
   ],
   "source": [
    "unique_words = list(set(words))\n",
    "word_count = {}\n",
    "for word in words:\n",
    "    if word in word_count:\n",
    "        word_count[word] += 1\n",
    "    else:\n",
    "        word_count[word] = 1\n",
    "word_count"
   ]
  },
  {
   "cell_type": "code",
   "execution_count": null,
   "metadata": {},
   "outputs": [],
   "source": [
    "Read the inputs\n",
    "How many students data you want to read\n",
    "Read the student name\n",
    "Read the students marks in three subjcts in a single line\n",
    "Example : \"56 78 92\"\n",
    "Use the name as a key in the dictionary and values is alist with above marks\n",
    "Repeat the above three steps for all the students\n",
    "Final output is a dict\n",
    "Example Format\n",
    "{\"Renu\":[45,56,78],\"Hari\":[78,2,45]}\n",
    "s={\"renu\":[45,56,78],\"hari\":[78,2,45]}"
   ]
  },
  {
   "cell_type": "code",
   "execution_count": 48,
   "metadata": {},
   "outputs": [
    {
     "name": "stdout",
     "output_type": "stream",
     "text": [
      "{'56 78 92'}\n"
     ]
    }
   ],
   "source": [
    "marks={\"56 78 92\"}\n",
    "print(marks)"
   ]
  },
  {
   "cell_type": "code",
   "execution_count": 49,
   "metadata": {},
   "outputs": [
    {
     "data": {
      "text/plain": [
       "{'Renu': [45, 56, 78], 'Hari': [78, 2, 45]}"
      ]
     },
     "execution_count": 49,
     "metadata": {},
     "output_type": "execute_result"
    }
   ],
   "source": [
    "marks_names={\"Renu\":[45,56,78],\"Hari\":[78,2,45]}\n",
    "marks_names"
   ]
  },
  {
   "cell_type": "code",
   "execution_count": null,
   "metadata": {},
   "outputs": [],
   "source": [
    "#read the number of students from user\n",
    "#Read the details of students into a list. Each sublist contains below details\n",
    "#studentName,RollNumber,Marks,Language in a single line\n",
    "#example \"raj,416,56,python\"\n",
    "3#reate a dict in which\n",
    "#key is a tuple contains name and roll number\n",
    "#value is a dict with language as key marks as value\n",
    "#Output Format\n",
    "#{(\"Hari\",678):{\"C\":94},(\"Renu\",546):{\"Python\":75}\n",
    " "
   ]
  },
  {
   "cell_type": "code",
   "execution_count": 5,
   "metadata": {},
   "outputs": [
    {
     "name": "stdout",
     "output_type": "stream",
     "text": [
      "raj 416 56 python\n"
     ]
    },
    {
     "data": {
      "text/plain": [
       "['raj', 416, 56, 'python']"
      ]
     },
     "execution_count": 5,
     "metadata": {},
     "output_type": "execute_result"
    }
   ],
   "source": [
    "s=input().split()\n",
    "s[1]=int(s[1])\n",
    "s[2]=int(s[2])\n",
    "s"
   ]
  },
  {
   "cell_type": "code",
   "execution_count": 8,
   "metadata": {},
   "outputs": [
    {
     "name": "stdout",
     "output_type": "stream",
     "text": [
      "{('Hari', 678): {'C': 94}, ('Renu', 546): {'Python': 75}}\n"
     ]
    }
   ],
   "source": [
    "marks={(\"Hari\",678):{\"C\":94},(\"Renu\",546):{\"Python\":75}}\n",
    "print(marks)       "
   ]
  },
  {
   "cell_type": "code",
   "execution_count": null,
   "metadata": {},
   "outputs": [],
   "source": [
    "#Modify the above code so that if the user enter multiple entries with same username and roll number you \n",
    "should add the new language as key and marks as values in the inner dictionary -o/p {(\"Hari\",678):{\"C\":94,\"Python\":67},\n",
    "(\"Renu\",546):{\"Python\":75}\n",
    "\n"
   ]
  },
  {
   "cell_type": "code",
   "execution_count": null,
   "metadata": {},
   "outputs": [],
   "source": []
  },
  {
   "cell_type": "code",
   "execution_count": null,
   "metadata": {},
   "outputs": [],
   "source": []
  }
 ],
 "metadata": {
  "kernelspec": {
   "display_name": "Python 3",
   "language": "python",
   "name": "python3"
  },
  "language_info": {
   "codemirror_mode": {
    "name": "ipython",
    "version": 3
   },
   "file_extension": ".py",
   "mimetype": "text/x-python",
   "name": "python",
   "nbconvert_exporter": "python",
   "pygments_lexer": "ipython3",
   "version": "3.7.1"
  }
 },
 "nbformat": 4,
 "nbformat_minor": 2
}
